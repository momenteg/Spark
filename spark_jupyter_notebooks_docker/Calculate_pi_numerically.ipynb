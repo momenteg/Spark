{
 "cells": [
  {
   "cell_type": "code",
   "execution_count": 1,
   "metadata": {},
   "outputs": [],
   "source": [
    "import pyspark \n",
    "sc = pyspark.SparkContext('local[*]')\n",
    "import random\n",
    "%load_ext Cython\n"
   ]
  },
  {
   "cell_type": "markdown",
   "metadata": {},
   "source": [
    "Spark's way"
   ]
  },
  {
   "cell_type": "code",
   "execution_count": 11,
   "metadata": {},
   "outputs": [],
   "source": [
    "def inside(p):     \n",
    "    x, y = random.random(), random.random()\n",
    "    return x*x + y*y < 1\n",
    "\n",
    "def pi_aproximantion_spark(sc):\n",
    "    num_samples = 100000000\n",
    "    count = sc.parallelize(range(0, num_samples)).filter(inside).count()\n",
    "    pi = 4 * count / num_samples\n",
    "    print(pi)"
   ]
  },
  {
   "cell_type": "markdown",
   "metadata": {},
   "source": [
    "Cythoninic way"
   ]
  },
  {
   "cell_type": "code",
   "execution_count": 8,
   "metadata": {},
   "outputs": [],
   "source": [
    "%%cython\n",
    "import random\n",
    "\n",
    "def pi_aproximantion_cython():\n",
    "    cdef int true_=0, num_samples = 100000000\n",
    "    cdef float x,y \n",
    "    for i in range(num_samples):\n",
    "        x = random.random()\n",
    "        y = random.random()\n",
    "        if (x*x + y*y) < 1:\n",
    "            true_ = true_ +1\n",
    "        \n",
    "    \n",
    "    return (4 * true_ / num_samples)"
   ]
  },
  {
   "cell_type": "code",
   "execution_count": 12,
   "metadata": {},
   "outputs": [
    {
     "name": "stdout",
     "output_type": "stream",
     "text": [
      "3.14200944\n",
      "3.14200944\n",
      "3.14200944\n",
      "3.14200944\n",
      "3.14200944\n",
      "3.14200944\n",
      "3.14200944\n",
      "3.14200944\n",
      "44.4 s ± 1.71 s per loop (mean ± std. dev. of 7 runs, 1 loop each)\n"
     ]
    }
   ],
   "source": [
    "%timeit pi_aproximantion_spark(sc)"
   ]
  },
  {
   "cell_type": "code",
   "execution_count": 9,
   "metadata": {},
   "outputs": [
    {
     "name": "stdout",
     "output_type": "stream",
     "text": [
      "3.14163456\n",
      "3.14164556\n",
      "3.14154092\n",
      "3.14180176\n",
      "3.14148728\n",
      "3.14137624\n",
      "3.14148544\n",
      "3.1415322\n",
      "10.6 s ± 124 ms per loop (mean ± std. dev. of 7 runs, 1 loop each)\n"
     ]
    }
   ],
   "source": [
    "%timeit print(pi_aproximantion_cython())"
   ]
  }
 ],
 "metadata": {
  "kernelspec": {
   "display_name": "Python 3",
   "language": "python",
   "name": "python3"
  },
  "language_info": {
   "codemirror_mode": {
    "name": "ipython",
    "version": 3
   },
   "file_extension": ".py",
   "mimetype": "text/x-python",
   "name": "python",
   "nbconvert_exporter": "python",
   "pygments_lexer": "ipython3",
   "version": "3.6.3"
  }
 },
 "nbformat": 4,
 "nbformat_minor": 2
}
